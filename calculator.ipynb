{
  "nbformat": 4,
  "nbformat_minor": 0,
  "metadata": {
    "colab": {
      "provenance": []
    },
    "kernelspec": {
      "name": "python3",
      "display_name": "Python 3"
    },
    "language_info": {
      "name": "python"
    }
  },
  "cells": [
    {
      "cell_type": "code",
      "execution_count": null,
      "metadata": {
        "colab": {
          "base_uri": "https://localhost:8080/"
        },
        "id": "kB3FECLq8sP8",
        "outputId": "f3810a15-8b73-47f2-8c7d-728f453cba38"
      },
      "outputs": [
        {
          "output_type": "stream",
          "name": "stdout",
          "text": [
            "\n",
            "Simple Calculator\n",
            "Select an operation:\n",
            "1. Addition (+)\n",
            "2. Subtraction (-)\n",
            "3. Multiplication (*)\n",
            "4. Division (/)\n",
            "5. Exit\n"
          ]
        }
      ],
      "source": [
        "def calculator():\n",
        "    while True:\n",
        "        print(\"\\nSimple Calculator\")\n",
        "        print(\"Select an operation:\")\n",
        "        print(\"1. Addition (+)\")\n",
        "        print(\"2. Subtraction (-)\")\n",
        "        print(\"3. Multiplication (*)\")\n",
        "        print(\"4. Division (/)\")\n",
        "        print(\"5. Exit\")\n",
        "\n",
        "        choice = input(\"Enter choice (1/2/3/4/5): \")\n",
        "\n",
        "        if choice == '5':\n",
        "            print(\"Exiting the calculator. Goodbye!\")\n",
        "            break\n",
        "\n",
        "        if choice in ('1', '2', '3', '4'):\n",
        "            try:\n",
        "                num1 = float(input(\"Enter first number: \"))\n",
        "                num2 = float(input(\"Enter second number: \"))\n",
        "\n",
        "                if choice == '1':\n",
        "                    print(f\"Result: {num1} + {num2} = {num1 + num2}\")\n",
        "                elif choice == '2':\n",
        "                    print(f\"Result: {num1} - {num2} = {num1 - num2}\")\n",
        "                elif choice == '3':\n",
        "                    print(f\"Result: {num1} * {num2} = {num1 * num2}\")\n",
        "                elif choice == '4':\n",
        "                    if num2 == 0:\n",
        "                        print(\"Error! Division by zero is not allowed.\")\n",
        "                    else:\n",
        "                        print(f\"Result: {num1} / {num2} = {num1 / num2}\")\n",
        "            except ValueError:\n",
        "                print(\"Invalid input! Please enter numeric values.\")\n",
        "        else:\n",
        "            print(\"Invalid choice! Please select a valid option.\")\n",
        "\n",
        "if __name__ == \"__main__\":\n",
        "    calculator()"
      ]
    }
  ]
}